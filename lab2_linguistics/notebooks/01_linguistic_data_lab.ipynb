{
 "cells": [
  {
   "cell_type": "markdown",
   "metadata": {},
   "source": [
    "# Lab 2 - Linguistics Data"
   ]
  },
  {
   "cell_type": "code",
   "execution_count": 1,
   "metadata": {},
   "outputs": [],
   "source": [
    "%load_ext autoreload\n",
    "%autoreload 2\n",
    "\n",
    "import sys\n",
    "sys.path.append('..')\n",
    "\n",
    "from python.load import load_q_and_a_key, load_ling_data, load_zip_data\n",
    "from python.clean import merge_ling_zip_data, clean_ling_data\n",
    "from python.plot import plot_ling_map"
   ]
  },
  {
   "cell_type": "markdown",
   "metadata": {},
   "source": [
    "## Load Data"
   ]
  },
  {
   "cell_type": "markdown",
   "metadata": {},
   "source": [
    "Let's first load in the three datasets:\n",
    "\n",
    "- `qa_key`: question and answer key\n",
    "- `ling_orig`: (uncleaned) linguistics survey data\n",
    "- `zip_df`: mapping between ZIP codes and latitude/longitude coordinates\n",
    "\n",
    "**Your task:**\n",
    "\n",
    "- Open `R/load.R` and fill in the code for `load_ling_data()`."
   ]
  },
  {
   "cell_type": "code",
   "execution_count": 2,
   "metadata": {},
   "outputs": [],
   "source": [
    "# load in data\n",
    "DATA_PATH = \"../data\"\n",
    "qa_key = load_q_and_a_key(DATA_PATH)\n",
    "ling_orig = load_ling_data(DATA_PATH)\n",
    "zip_df = load_zip_data(DATA_PATH)"
   ]
  },
  {
   "cell_type": "markdown",
   "metadata": {},
   "source": [
    "Next, taking a quick look at the data..."
   ]
  },
  {
   "cell_type": "code",
   "execution_count": null,
   "metadata": {},
   "outputs": [],
   "source": [
    "qa_key"
   ]
  },
  {
   "cell_type": "code",
   "execution_count": null,
   "metadata": {},
   "outputs": [],
   "source": [
    "ling_orig"
   ]
  },
  {
   "cell_type": "code",
   "execution_count": null,
   "metadata": {},
   "outputs": [],
   "source": [
    "zip_df"
   ]
  },
  {
   "cell_type": "markdown",
   "metadata": {},
   "source": [
    "## Clean Data"
   ]
  },
  {
   "cell_type": "markdown",
   "metadata": {},
   "source": [
    "In order to facilitate visualizations and future analyses, we will next merge the linguistics survey data with the ZIP locations data and clean the data.\n",
    "\n",
    "**Your task:**\n",
    "\n",
    "- Open `R/clean.R` and fill in the code for `merge_ling_zip_data()`. This function should merge the linguistics survey data with the ZIP locations data. The goal is to relate each individual to their latitude/longitude location coordinates."
   ]
  },
  {
   "cell_type": "code",
   "execution_count": null,
   "metadata": {},
   "outputs": [],
   "source": [
    "ling_df = merge_ling_zip_data(ling_orig, zip_df)\n",
    "ling_df"
   ]
  },
  {
   "cell_type": "markdown",
   "metadata": {},
   "source": [
    "**Your task:**\n",
    "\n",
    "- Open `R/clean.R` and fill in the code for `clean_ling_data()`. Feel free to do any data cleaning you would like here."
   ]
  },
  {
   "cell_type": "code",
   "execution_count": null,
   "metadata": {},
   "outputs": [],
   "source": [
    "ling_df = clean_ling_data(ling_df)\n",
    "ling_df"
   ]
  },
  {
   "cell_type": "markdown",
   "metadata": {},
   "source": [
    "## Data Explorations"
   ]
  },
  {
   "cell_type": "markdown",
   "metadata": {},
   "source": [
    "Let's do some exploratory data analysis!\n",
    "\n",
    "To get you started, here is a map of the survey respondents and their responses to question 50."
   ]
  },
  {
   "cell_type": "code",
   "execution_count": null,
   "metadata": {},
   "outputs": [],
   "source": [
    "plot_ling_map(ling_df, qa_key, qid = 50)"
   ]
  },
  {
   "cell_type": "markdown",
   "metadata": {},
   "source": [
    "**Your task:**\n",
    "\n",
    "- Spend some time exploring other questions and visualizations of the data. The goal is to get a feel for what the data is like and what kind of dimension reduction/clustering analyses you might want to do in the future."
   ]
  },
  {
   "cell_type": "code",
   "execution_count": 9,
   "metadata": {},
   "outputs": [],
   "source": [
    "# TODO: additional explorations"
   ]
  },
  {
   "cell_type": "markdown",
   "metadata": {},
   "source": [
    "## Dimension Reduction"
   ]
  },
  {
   "cell_type": "markdown",
   "metadata": {},
   "source": [
    "Time to begin dimension reduction."
   ]
  },
  {
   "cell_type": "markdown",
   "metadata": {},
   "source": [
    "### Principal Components Analysis"
   ]
  },
  {
   "cell_type": "markdown",
   "metadata": {},
   "source": [
    "Let's start with arguably the most popular dimension reduction technique - principal components analysis (PCA).\n",
    "\n",
    "**Your task:**\n",
    "\n",
    "- Perform PCA on the linguistics survey data. (Tip: you may want to use the `PCA()` function from `sklearn.decompositions`)"
   ]
  },
  {
   "cell_type": "code",
   "execution_count": 10,
   "metadata": {},
   "outputs": [],
   "source": [
    "# TODO: do PCA"
   ]
  },
  {
   "cell_type": "code",
   "execution_count": null,
   "metadata": {},
   "outputs": [],
   "source": []
  }
 ],
 "metadata": {
  "kernelspec": {
   "display_name": "base",
   "language": "python",
   "name": "python3"
  },
  "language_info": {
   "codemirror_mode": {
    "name": "ipython",
    "version": 3
   },
   "file_extension": ".py",
   "mimetype": "text/x-python",
   "name": "python",
   "nbconvert_exporter": "python",
   "pygments_lexer": "ipython3",
   "version": "3.12.4"
  }
 },
 "nbformat": 4,
 "nbformat_minor": 2
}
